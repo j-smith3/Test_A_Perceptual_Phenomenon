{
 "cells": [
  {
   "cell_type": "markdown",
   "metadata": {},
   "source": [
    "## Investigating the Stroop Effect"
   ]
  },
  {
   "cell_type": "code",
   "execution_count": 1,
   "metadata": {},
   "outputs": [],
   "source": [
    "%matplotlib inline\n",
    "import pandas as pd\n",
    "import matplotlib.pyplot as plt\n",
    "import math\n",
    "import seaborn as sns"
   ]
  },
  {
   "cell_type": "code",
   "execution_count": 2,
   "metadata": {},
   "outputs": [],
   "source": [
    "# Load data from file into a dataframe\n",
    "filename = 'C:/Users/securitycontrol/My Documents/WGU/C749/Project 2/stroopdata.csv'\n",
    "stroop_df = pd.read_csv(filename)"
   ]
  },
  {
   "cell_type": "markdown",
   "metadata": {},
   "source": [
    "**Question 1.** What is our independent variable? What is our dependent variable?"
   ]
  },
  {
   "cell_type": "markdown",
   "metadata": {},
   "source": [
    "- Our **independent variable** is the type of congruency word condition the subject was tested on. Each subject was tested for both congruent word conditions and incongruent word conditions. \n",
    "\n",
    "- Our **dependent variable** is the time it takes to complete the congruency condition test.\n"
   ]
  },
  {
   "cell_type": "markdown",
   "metadata": {},
   "source": [
    "**Question 2.** What is an appropriate set of hypotheses for this task? What kind of statistical test do you expect to perform? Justify your choices."
   ]
  },
  {
   "cell_type": "markdown",
   "metadata": {},
   "source": [
    "- The **null hypothesis** is that there will be no significant difference between test times for congruent and incongruent conditions. "
   ]
  },
  {
   "cell_type": "markdown",
   "metadata": {},
   "source": [
    ">**H<sub>0</sub>: $\\mu$<sub>C</sub> = $\\mu$<sub>I</sub>** \n",
    "(where H<sub>0</sub> is the null hypothesis,\n",
    "$\\mu$<sub>C</sub> is the mean time for congruent tests, and\n",
    "$\\mu$<sub>I</sub> is the mean time for incongruent tests)"
   ]
  },
  {
   "cell_type": "markdown",
   "metadata": {},
   "source": [
    "- The **alternative hypothesis** is that there will be a significant difference between test times for congruent and incongruent conditions"
   ]
  },
  {
   "cell_type": "markdown",
   "metadata": {},
   "source": [
    ">**H<sub>A</sub>: $\\mu$<sub>C</sub> \t$\\neq$ $\\mu$<sub>I</sub>**\n",
    "(where H<sub>A</sub> is the alternative hypothesis,\n",
    "$\\mu$<sub>C</sub> is the mean time for congruent tests, and\n",
    "$\\mu$<sub>I</sub> is the mean time for incongruent tests)"
   ]
  },
  {
   "cell_type": "markdown",
   "metadata": {},
   "source": [
    "- I will be conducting a dependent (paired) t-test on the dataset. There is one sample group that takes two tests (congruent and incongruent) and this type of analysis will allow us to see the difference between the means for each variable.  I chose to use a two-tailed test because we do not know which direction the means may vary, so I wanted to include both directions.  "
   ]
  },
  {
   "cell_type": "markdown",
   "metadata": {},
   "source": [
    "- **Assumptions**\n",
    "    1. The observations are independent of one another.\n",
    "    2. The dependent variable is normally distributed.\n",
    "    3. The dependent variable does not contain any outliers.\n",
    "    4. The dependent variable is continuous.\n",
    " "
   ]
  },
  {
   "cell_type": "markdown",
   "metadata": {},
   "source": [
    "**Question 3.** Report some descriptive statistics regarding this dataset. Include at least one measure of central tendency and at least one measure of variability."
   ]
  },
  {
   "cell_type": "code",
   "execution_count": 3,
   "metadata": {},
   "outputs": [
    {
     "name": "stdout",
     "output_type": "stream",
     "text": [
      "    Congruent  Incongruent\n",
      "0      12.079       19.278\n",
      "1      16.791       18.741\n",
      "2       9.564       21.214\n",
      "3       8.630       15.687\n",
      "4      14.669       22.803\n",
      "5      12.238       20.878\n",
      "6      14.692       24.572\n",
      "7       8.987       17.394\n",
      "8       9.401       20.762\n",
      "9      14.480       26.282\n",
      "10     22.328       24.524\n",
      "11     15.298       18.644\n",
      "12     15.073       17.510\n",
      "13     16.929       20.330\n",
      "14     18.200       35.255\n",
      "15     12.130       22.158\n",
      "16     18.495       25.139\n",
      "17     10.639       20.429\n",
      "18     11.344       17.425\n",
      "19     12.369       34.288\n",
      "20     12.944       23.894\n",
      "21     14.233       17.960\n",
      "22     19.710       22.058\n",
      "23     16.004       21.157\n"
     ]
    }
   ],
   "source": [
    "##display the stroop_df\n",
    "print(stroop_df)"
   ]
  },
  {
   "cell_type": "code",
   "execution_count": 4,
   "metadata": {},
   "outputs": [
    {
     "name": "stdout",
     "output_type": "stream",
     "text": [
      "The mean of the congruent set is 14.05.\n",
      "The mean of the incongruent set is 22.02.\n"
     ]
    }
   ],
   "source": [
    "##display measures of central tendency - the means\n",
    "congruent_mean = stroop_df.Congruent.mean()\n",
    "incongruent_mean = stroop_df.Incongruent.mean()\n",
    "print(\"The mean of the congruent set is {0:.2f}.\".format(congruent_mean))\n",
    "print(\"The mean of the incongruent set is {0:.2f}.\".format(incongruent_mean))"
   ]
  },
  {
   "cell_type": "code",
   "execution_count": 5,
   "metadata": {},
   "outputs": [
    {
     "name": "stdout",
     "output_type": "stream",
     "text": [
      "The standard deviation of the congruent set is 3.56.\n",
      "The standard deviation of the incongruent set is 4.80.\n"
     ]
    }
   ],
   "source": [
    "##display a measure of variability - the standard deviations\n",
    "congruent_std = stroop_df.Congruent.std()\n",
    "incongruent_std = stroop_df.Incongruent.std()\n",
    "print(\"The standard deviation of the congruent set is {0:.2f}.\".format(congruent_std))\n",
    "print(\"The standard deviation of the incongruent set is {0:.2f}.\".format(incongruent_std))"
   ]
  },
  {
   "cell_type": "markdown",
   "metadata": {},
   "source": [
    "**Question 4.** Provide one or two visualizations that show the distribution of the sample data. Write one or two sentences noting what you observe about the plot or plots."
   ]
  },
  {
   "cell_type": "code",
   "execution_count": 6,
   "metadata": {},
   "outputs": [
    {
     "data": {
      "image/png": "[encoded data removed]",
      "text/plain": [
       "<Figure size 432x288 with 1 Axes>"
      ]
     },
     "metadata": {
      "needs_background": "light"
     },
     "output_type": "display_data"
    }
   ],
   "source": [
    "#Make a boxplot for both datasets\n",
    "sns.boxplot(data=stroop_df[['Congruent', 'Incongruent']], width=.5, orient=\"v\", palette=\"Set3\");\n",
    "plt.ylabel(\"Time\");"
   ]
  },
  {
   "cell_type": "markdown",
   "metadata": {},
   "source": [
    "- The box plots show the interquartile range of both datasets. The Congruent set having a mean around 14 and the Incongruent set having a mean around 22. The differences in time taken between these two sets it apparent. We also have two data points that would be outliers for the Incongruent dataset since they are well outside the box plot (around the 35 time mark). "
   ]
  },
  {
   "cell_type": "code",
   "execution_count": 7,
   "metadata": {},
   "outputs": [
    {
     "data": {
      "image/png": "[encoded data removed]",
      "text/plain": [
       "<Figure size 432x288 with 1 Axes>"
      ]
     },
     "metadata": {
      "needs_background": "light"
     },
     "output_type": "display_data"
    }
   ],
   "source": [
    "#Compare both datasets on a graph\n",
    "sns.distplot(stroop_df['Congruent'], label = \"Congruent\", color = \"blue\")\n",
    "sns.distplot(stroop_df['Incongruent'], label = \"Incongruent\", color = \"purple\")\n",
    "plt.xlabel(\"Time\");\n",
    "plt.ylabel(\"Frequency\");\n",
    "plt.title(\"Times For Congruent Vs Incongruent Tests\");\n",
    "plt.legend();"
   ]
  },
  {
   "cell_type": "markdown",
   "metadata": {},
   "source": [
    "- The chart above shows that both datasets are relatively normal and have different modes. The Incongruent set also shows some outliers around the 35 mark on the time axis."
   ]
  },
  {
   "cell_type": "markdown",
   "metadata": {},
   "source": [
    "**Question 5.** Now, perform the statistical test and report your results. What is your confidence level and your critical statistic value? Do you reject the null hypothesis or fail to reject it? Come to a conclusion in terms of the experiment task. Did the results match up with your expectations?"
   ]
  },
  {
   "cell_type": "markdown",
   "metadata": {},
   "source": [
    "- Sample Size (**n**) = 24\n",
    "- Degrees of Freedom (**df**) = n - 1 = 23\n",
    "- **$\\mu$<sub>C</sub>** = 14.05\n",
    "- **$\\mu$<sub>I</sub>** = 22.02\n",
    "- Alpha Level (**$\\alpha$**) = 0.05 (our level of significance)\n",
    "- **t<sub>critical</sub>** = $\\pm$ 2.069 for a two-tailed test (derived from a t-table - link in references section)"
   ]
  },
  {
   "cell_type": "markdown",
   "metadata": {},
   "source": [
    "**Standard Deviation (S<sub>D</sub>)** of difference between means."
   ]
  },
  {
   "cell_type": "code",
   "execution_count": 8,
   "metadata": {},
   "outputs": [
    {
     "name": "stdout",
     "output_type": "stream",
     "text": [
      "The standard deviation of the difference in times between datasets is 4.86\n"
     ]
    }
   ],
   "source": [
    "## Find the standard deviation of the differences in time between each dataset\n",
    "standard_dev_difference = (stroop_df.Congruent - stroop_df.Incongruent).std()\n",
    "print(\"The standard deviation of the difference in times between datasets is {0:.2f}\".format(standard_dev_difference))"
   ]
  },
  {
   "cell_type": "markdown",
   "metadata": {},
   "source": [
    "- **S<sub>D</sub>** = 4.86 "
   ]
  },
  {
   "cell_type": "markdown",
   "metadata": {},
   "source": [
    "**Average Difference** between datasets ($\\bar{x}$<sub>D</sub> = $\\mu$<sub>C</sub> - $\\mu$<sub>I</sub>) "
   ]
  },
  {
   "cell_type": "code",
   "execution_count": 9,
   "metadata": {},
   "outputs": [
    {
     "name": "stdout",
     "output_type": "stream",
     "text": [
      "The average difference between datasets is -7.96\n"
     ]
    }
   ],
   "source": [
    "## Calculate the difference between means for the two datasets\n",
    "mean_differences = stroop_df.Congruent.mean() - stroop_df.Incongruent.mean()\n",
    "print(\"The average difference between datasets is {0:.2f}\".format(mean_differences))"
   ]
  },
  {
   "cell_type": "markdown",
   "metadata": {},
   "source": [
    "- **$\\bar{x}$<sub>D</sub>** = -7.96"
   ]
  },
  {
   "cell_type": "markdown",
   "metadata": {},
   "source": [
    "**Standard Error (SE)** = S<sub>D</sub> / $\\sqrt{n}$"
   ]
  },
  {
   "cell_type": "code",
   "execution_count": 10,
   "metadata": {},
   "outputs": [
    {
     "name": "stdout",
     "output_type": "stream",
     "text": [
      "The standard error of the two datasets is 0.99\n"
     ]
    }
   ],
   "source": [
    "## Calculate the standard error \n",
    "standard_error = standard_dev_difference / math.sqrt(24)\n",
    "print(\"The standard error of the two datasets is {0:.2f}\".format(standard_error))"
   ]
  },
  {
   "cell_type": "markdown",
   "metadata": {},
   "source": [
    "- **SE** = 0.99"
   ]
  },
  {
   "cell_type": "markdown",
   "metadata": {},
   "source": [
    "**T-statistic** = $\\bar{x}$<sub>D</sub> / SE"
   ]
  },
  {
   "cell_type": "code",
   "execution_count": 11,
   "metadata": {},
   "outputs": [
    {
     "name": "stdout",
     "output_type": "stream",
     "text": [
      "The t-statistic is -8.02\n"
     ]
    }
   ],
   "source": [
    "## calculate the t-statistic\n",
    "t_statistic = mean_differences/standard_error\n",
    "print(\"The t-statistic is {0:.2f}\".format(t_statistic))"
   ]
  },
  {
   "cell_type": "markdown",
   "metadata": {},
   "source": [
    "- **T-statistic** = -8.02"
   ]
  },
  {
   "cell_type": "markdown",
   "metadata": {},
   "source": [
    "**95% confidence interval (CI)** = $\\bar{x}$<sub>D</sub> $\\pm$ (t<sub>critical</sub> * SE)"
   ]
  },
  {
   "cell_type": "code",
   "execution_count": 12,
   "metadata": {},
   "outputs": [
    {
     "name": "stdout",
     "output_type": "stream",
     "text": [
      "95% confidence interval = (-10.02,-5.91)\n"
     ]
    }
   ],
   "source": [
    "## calculate the range of time values with a 95% confidence interval\n",
    "t_critical = 2.069\n",
    "upper_range = mean_differences + ( t_critical * standard_error)\n",
    "lower_range = mean_differences - ( t_critical * standard_error)\n",
    "print(\"95% confidence interval = ({0:.2f},{1:.2f})\".format(lower_range,upper_range))"
   ]
  },
  {
   "cell_type": "markdown",
   "metadata": {},
   "source": [
    "- **95% CI** = (-10.02, -5.91)"
   ]
  },
  {
   "cell_type": "markdown",
   "metadata": {},
   "source": [
    "**P-Value** "
   ]
  },
  {
   "cell_type": "markdown",
   "metadata": {},
   "source": [
    "- p-value < 0.0001"
   ]
  },
  {
   "cell_type": "markdown",
   "metadata": {},
   "source": [
    "### Conclusion"
   ]
  },
  {
   "cell_type": "markdown",
   "metadata": {},
   "source": [
    "A p-value less than 0.01% indicates that we did not get these results by chance. Having a t-statistic of -8.02 that is lower than our t-critical value of -2.069, indicates that we should reject the null hypothesis. The incongruent test conditions take significantly more time to complete than the congruent test conditions. This is inline with what I expected after having taken the Stroop Test. We can say with 95% confidence that the incongruent test will take approximately 6 to 10 seconds longer to complete than the congruent test.  "
   ]
  },
  {
   "cell_type": "markdown",
   "metadata": {},
   "source": [
    "### References"
   ]
  },
  {
   "cell_type": "markdown",
   "metadata": {},
   "source": [
    "- https://www.statisticssolutions.com/manova-analysis-paired-sample-t-test/"
   ]
  },
  {
   "cell_type": "markdown",
   "metadata": {},
   "source": [
    "- https://www.graphpad.com/quickcalcs/pvalue1.cfm"
   ]
  },
  {
   "cell_type": "markdown",
   "metadata": {},
   "source": [
    "- http://www.ttable.org/"
   ]
  }
 ],
 "metadata": {
  "kernelspec": {
   "display_name": "Python 3",
   "language": "python",
   "name": "python3"
  },
  "language_info": {
   "codemirror_mode": {
    "name": "ipython",
    "version": 3
   },
   "file_extension": ".py",
   "mimetype": "text/x-python",
   "name": "python",
   "nbconvert_exporter": "python",
   "pygments_lexer": "ipython3",
   "version": "3.7.6"
  }
 },
 "nbformat": 4,
 "nbformat_minor": 4
}
